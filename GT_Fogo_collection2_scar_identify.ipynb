{
  "nbformat": 4,
  "nbformat_minor": 0,
  "metadata": {
    "colab": {
      "provenance": []
    },
    "kernelspec": {
      "name": "python3",
      "display_name": "Python 3"
    },
    "language_info": {
      "name": "python"
    }
  },
  "cells": [
    {
      "cell_type": "markdown",
      "source": [
        "## OBJETIVO:\n",
        "Identificar cada cicatriz de fogo nos mapas anuais do MapBiomas-Fogo sem perder os trinta metros de resolução.\n",
        "\n",
        "## ESTRATEGIA\n",
        "Vetorizar os dados anuais de area queimada e assim atribuir um ID para cada poligono fechado que represente um conjunto de pixeis conectados.\n",
        "\n",
        "##ETAPAS:\n",
        "#### ETAPA 0\n",
        "Exportar dados do MapBiomas-Fogo coleção 2 para o Google Drive\n",
        "\n",
        "script: [Download das imagens anuais de area queimada.js](https://code.earthengine.google.com/db5e8b901c15c5625fe7323b0e5be723?noload=1)\n",
        "\n",
        "\n",
        "#### ETAPA 1\n",
        "Vetorizar cicatrizes e enviar de volta ao Earth Engine como uma feature collection por ano.\n",
        "\n",
        "PASSO 0: Mosaicar as imagens do ano em um só tif usando **gdalbuildvrt** e **gdal_translate**\n",
        "\n",
        "PASSO 1: Vetorizar ela com **gdal_poligonize.py**\n",
        "\n",
        "PASSO 2: Atribuir uma coluna de ID decimal a cada poligono com **GeoPandas**\n",
        "\n",
        "PASSO 3: Enviar de volta ao Earth Engine como assets\n",
        "\n",
        "NOTEBOOK: [Vetorização das cicatrizes.ipynb](https://colab.research.google.com/drive/1sgkU3j8s4UuYpY63Mfggnx6PSnM5dqsU?usp=sharing)\n",
        "\n",
        "\n",
        "#### ETAPA 2: \n",
        "Rasterizar os vetores de cicatrizes anuais com a função **ee.Image().paint()** e construir um raster stack, de uma banda por ano com o valor do pixel sendo um id unico naquele ano para cada cicatriz\n",
        "\n",
        "script: [rasterização dos dados de identificação de cicatrizes.js](https://code.earthengine.google.com/b4c08a9601167fe6eb381d909b73736f)\n",
        "\n",
        "#### Outros resultados:\n",
        "<picture>\n",
        "  <img src=\"https://drive.google.com/uc?id=17fqkMS7klCCDgKWx2_YqTpeoCHx2q5r2\">\n",
        "</picture>\n",
        "Base de dados: [Google Drive](https://drive.google.com/drive/folders/1zsbCJa88UyYBokRKCrgEA_cMXI82n22K?usp=sharing)\n",
        "\n",
        "~~~javascript\n",
        "// raster stack de indentificação das cicatrizes da coleção 2 do mapbiomas-fogo (1985-2022)\n",
        "var scar_id = ee.Image('projects/mapbiomas-workspace/FOGO_COL2/SUBPRODUTOS/mapbiomas-fire-collection2-annual-burned-id-v1')\n",
        "// raster stack com a area de cada cicatriz da coleção 2 do mapbiomas-fogo (1985-2022)\n",
        "var scar_area = ee.Image('projects/mapbiomas-workspace/FOGO_COL2/SUBPRODUTOS/mapbiomas-fire-collection2-annual-burned-area-v1')\n",
        "  \n",
        "~~~\n",
        "~~~javascript\n",
        "// raster stack de indentificação das cicatrizes da coleção 1 do mapbiomas-fogo (1985-2020)\n",
        "var scar_id = ee.Image('projects/workspace-ipam/assets/FOGO/mapbiomas-fire-collection1-annual-scar_id-1')\n",
        "~~~\n",
        "~~~javascript\n",
        "// ASSETS: vetores das cicatrizes da coleção 2 do mapbiomas-fogo (1985 à 2022)\n",
        "var scar_vector_1985 = ee.FeatureCollection('projects/workspace-ipam/assets/FOGO/VECTOR-COL2/mbfogo-col2-1985-v1');\n",
        "var scar_vector_1986 = ee.FeatureCollection('projects/workspace-ipam/assets/FOGO/VECTOR-COL2/mbfogo-col2-1986-v1');\n",
        "...\n",
        "var scar_vector_2019 = ee.FeatureCollection('projects/workspace-ipam/assets/FOGO/VECTOR-COL2/mbfogo-col1-2021-v1');\n",
        "var scar_vector_2020 = ee.FeatureCollection('projects/workspace-ipam/assets/FOGO/VECTOR-COL2/mbfogo-col1-2022-v1');\n",
        "\n",
        "~~~\n",
        "~~~javascript\n",
        "// ASSETS: vetores das cicatrizes da coleção 1 do mapbiomas-fogo (1985 à 2020)\n",
        "var scar_vector_1985 = ee.FeatureCollection('projects/workspace-ipam/assets/FOGO/VECTOR-COL1/mbfogo-col1-1985-v2');\n",
        "var scar_vector_1986 = ee.FeatureCollection('projects/workspace-ipam/assets/FOGO/VECTOR-COL1/mbfogo-col1-1986-v2');\n",
        "...\n",
        "var scar_vector_2019 = ee.FeatureCollection('projects/workspace-ipam/assets/FOGO/VECTOR-COL1/mbfogo-col1-2019-v2');\n",
        "var scar_vector_2020 = ee.FeatureCollection('projects/workspace-ipam/assets/FOGO/VECTOR-COL1/mbfogo-col1-2020-v2');\n",
        "\n",
        "~~~"
      ],
      "metadata": {
        "id": "xdkdvEutK4Wq"
      }
    },
    {
      "cell_type": "markdown",
      "source": [
        "# DESENVOLVIMENTO DA ETAPA 1\n",
        "Vetorizar cicatrizes e enviar de volta ao Earth Engine como uma feature collection por ano."
      ],
      "metadata": {
        "id": "3kMjgt0tSbf6"
      }
    },
    {
      "cell_type": "code",
      "source": [
        "# preparando o ambiente para o gdal\n",
        "!apt-get install -y libgdal-dev\n",
        "!apt-get install -y gdal-bin\n",
        "!apt-get install python3-gdal\n",
        "\n",
        "import os\n",
        "os.environ['PROJ_LIB'] = '/usr/share/proj'\n",
        "os.environ['GDAL_DATA'] = '/usr/share/gdal/2.2'\n",
        "os.environ['GDAL_LIBRARY_PATH'] = '/usr/lib/libgdal.so'"
      ],
      "metadata": {
        "id": "1RSx8YFfDjjT",
        "colab": {
          "base_uri": "https://localhost:8080/"
        },
        "outputId": "01049aeb-a52d-4a96-b38d-a007f1be763a"
      },
      "execution_count": null,
      "outputs": [
        {
          "output_type": "stream",
          "name": "stdout",
          "text": [
            "Reading package lists... Done\n",
            "Building dependency tree       \n",
            "Reading state information... Done\n",
            "libgdal-dev is already the newest version (3.3.2+dfsg-2~focal2).\n",
            "0 upgraded, 0 newly installed, 0 to remove and 22 not upgraded.\n",
            "Reading package lists... Done\n",
            "Building dependency tree       \n",
            "Reading state information... Done\n",
            "gdal-bin is already the newest version (3.3.2+dfsg-2~focal2).\n",
            "0 upgraded, 0 newly installed, 0 to remove and 22 not upgraded.\n",
            "Reading package lists... Done\n",
            "Building dependency tree       \n",
            "Reading state information... Done\n",
            "python3-gdal is already the newest version (3.3.2+dfsg-2~focal2).\n",
            "0 upgraded, 0 newly installed, 0 to remove and 22 not upgraded.\n"
          ]
        }
      ]
    },
    {
      "cell_type": "code",
      "source": [
        "# preparando ambiente para o geopandas\n",
        "!pip install geopandas"
      ],
      "metadata": {
        "id": "wlvT2wKUKnTG",
        "colab": {
          "base_uri": "https://localhost:8080/"
        },
        "outputId": "73f46cdb-87b8-44b5-a61e-8bedbd2b160f"
      },
      "execution_count": null,
      "outputs": [
        {
          "output_type": "stream",
          "name": "stdout",
          "text": [
            "Looking in indexes: https://pypi.org/simple, https://us-python.pkg.dev/colab-wheels/public/simple/\n",
            "Requirement already satisfied: geopandas in /usr/local/lib/python3.9/dist-packages (0.12.2)\n",
            "Requirement already satisfied: fiona>=1.8 in /usr/local/lib/python3.9/dist-packages (from geopandas) (1.9.1)\n",
            "Requirement already satisfied: pyproj>=2.6.1.post1 in /usr/local/lib/python3.9/dist-packages (from geopandas) (3.4.1)\n",
            "Requirement already satisfied: packaging in /usr/local/lib/python3.9/dist-packages (from geopandas) (23.0)\n",
            "Requirement already satisfied: pandas>=1.0.0 in /usr/local/lib/python3.9/dist-packages (from geopandas) (1.4.4)\n",
            "Requirement already satisfied: shapely>=1.7 in /usr/local/lib/python3.9/dist-packages (from geopandas) (2.0.1)\n",
            "Requirement already satisfied: setuptools in /usr/local/lib/python3.9/dist-packages (from fiona>=1.8->geopandas) (63.4.3)\n",
            "Requirement already satisfied: click-plugins>=1.0 in /usr/local/lib/python3.9/dist-packages (from fiona>=1.8->geopandas) (1.1.1)\n",
            "Requirement already satisfied: attrs>=19.2.0 in /usr/local/lib/python3.9/dist-packages (from fiona>=1.8->geopandas) (22.2.0)\n",
            "Requirement already satisfied: certifi in /usr/local/lib/python3.9/dist-packages (from fiona>=1.8->geopandas) (2022.12.7)\n",
            "Requirement already satisfied: munch>=2.3.2 in /usr/local/lib/python3.9/dist-packages (from fiona>=1.8->geopandas) (2.5.0)\n",
            "Requirement already satisfied: cligj>=0.5 in /usr/local/lib/python3.9/dist-packages (from fiona>=1.8->geopandas) (0.7.2)\n",
            "Requirement already satisfied: click~=8.0 in /usr/local/lib/python3.9/dist-packages (from fiona>=1.8->geopandas) (8.1.3)\n",
            "Requirement already satisfied: pytz>=2020.1 in /usr/local/lib/python3.9/dist-packages (from pandas>=1.0.0->geopandas) (2022.7.1)\n",
            "Requirement already satisfied: numpy>=1.18.5 in /usr/local/lib/python3.9/dist-packages (from pandas>=1.0.0->geopandas) (1.22.4)\n",
            "Requirement already satisfied: python-dateutil>=2.8.1 in /usr/local/lib/python3.9/dist-packages (from pandas>=1.0.0->geopandas) (2.8.2)\n",
            "Requirement already satisfied: six in /usr/local/lib/python3.9/dist-packages (from munch>=2.3.2->fiona>=1.8->geopandas) (1.15.0)\n"
          ]
        }
      ]
    },
    {
      "cell_type": "code",
      "execution_count": null,
      "metadata": {
        "colab": {
          "base_uri": "https://localhost:8080/"
        },
        "id": "Nbw2UjZQ75gn",
        "outputId": "14eb0249-1041-4ca7-bcd0-014a56725908"
      },
      "outputs": [
        {
          "output_type": "stream",
          "name": "stdout",
          "text": [
            "Drive already mounted at /content/drive; to attempt to forcibly remount, call drive.mount(\"/content/drive\", force_remount=True).\n"
          ]
        }
      ],
      "source": [
        "# conectando ao google drive\n",
        "from google.colab import drive\n",
        "drive.mount('/content/drive')"
      ]
    },
    {
      "cell_type": "code",
      "source": [
        "PROJECT = 'mapbiomas'\n",
        "\n",
        "from google.colab import auth\n",
        "auth.authenticate_user()\n",
        "\n",
        "# https://cloud.google.com/resource-manager/docs/creating-managing-projects\n",
        "\n",
        "!gcloud config set project {PROJECT}"
      ],
      "metadata": {
        "colab": {
          "base_uri": "https://localhost:8080/"
        },
        "id": "zyUkxQRPJ24I",
        "outputId": "0edd26f2-21a6-411f-9eb1-0491b976d7b9"
      },
      "execution_count": null,
      "outputs": [
        {
          "output_type": "stream",
          "name": "stdout",
          "text": [
            "Updated property [core/project].\n"
          ]
        }
      ]
    },
    {
      "cell_type": "code",
      "source": [
        "import ee\n",
        "ee.Authenticate()\n",
        "ee.Initialize()"
      ],
      "metadata": {
        "colab": {
          "base_uri": "https://localhost:8080/"
        },
        "id": "auytEOIxKjoZ",
        "outputId": "d4930e6d-b6cb-4098-8c38-681d0ca4e9cc"
      },
      "execution_count": null,
      "outputs": [
        {
          "output_type": "stream",
          "name": "stdout",
          "text": [
            "To authorize access needed by Earth Engine, open the following URL in a web browser and follow the instructions. If the web browser does not start automatically, please manually browse the URL below.\n",
            "\n",
            "    https://code.earthengine.google.com/client-auth?scopes=https%3A//www.googleapis.com/auth/earthengine%20https%3A//www.googleapis.com/auth/devstorage.full_control&request_id=bsfrkJ6uTZMdtLYSycE24Rq_mVZ8uWtraB9GfV5WuMs&tc=oQwPjKCuMsnMxj-ZE1Wfl990k9zkyNprABGn0JXoacE&cc=menbIe600wZrfh2_cHXuqNsxPuPAck_LvJQmS76Jqag\n",
            "\n",
            "The authorization workflow will generate a code, which you should paste in the box below.\n",
            "Enter verification code: 4/1AWtgzh6VLnfIbo2I01xG20VYTFUtz6_DE-mueFeNXgnGejtcwZkRVlROAnQ\n",
            "\n",
            "Successfully saved authorization token.\n"
          ]
        }
      ]
    },
    {
      "cell_type": "code",
      "source": [
        "# importando as livrarias\n",
        "# import os\n",
        "# import ee\n",
        "from osgeo import gdal\n",
        "import geopandas as gpd\n",
        "import numpy as np"
      ],
      "metadata": {
        "id": "LoI5EiQn9xn5"
      },
      "execution_count": null,
      "outputs": []
    },
    {
      "cell_type": "code",
      "source": [
        "# endereço das imagens no Google Drive\n",
        "home = '/content/drive/MyDrive/mapbiomas-fogo/mapbiomas_fire_collection2'\n",
        "\n",
        "years = [\n",
        "    # 1985,1986,1987,1988,1989,\n",
        "      1990,1991,1992,1993,1994,\n",
        "      1995,1996,1997,1998,1999,\n",
        "    # 2000,2001,2002,2003,2004,\n",
        "    # 2005,2006,2007,2008,2009,\n",
        "    # 2010,2011,2012,2013,2014,\n",
        "    # 2015,2016,2017,2018,2019,\n",
        "    # 2020,2021,2022\n",
        "]\n",
        "\n",
        "all_files_tif = os.listdir(home)\n",
        "all_files_tif = list(filter(lambda f: f.find('.tif') >= 0, all_files_tif))\n",
        "\n",
        "for year in years:\n",
        "  # year = 1985\n",
        "  # PASSO 0: Mosaicar as imagens do ano em um só tif usando gdalbuildvrt e gdal_translate\n",
        "  # aproximadamente 15 minutos por ano\n",
        "  print('{0} {1}/{2} PASSO 0/3: Mosaicar as imagens do ano em um só tif usando gdalbuildvrt e gdal_translate '.format(year,years.index(year),len(years) - 1))\n",
        "\n",
        "  filtered_images_tif = list(filter(lambda f: f.find('coverage_' + str(year)) >= 0, all_files_tif))\n",
        "  for i, file_name in enumerate(filtered_images_tif):\n",
        "    filtered_images_tif[i] = os.path.join(home, file_name)\n",
        "  files_tif_str = \" \".join(filtered_images_tif)\n",
        "  # print(files_tif_str)\n",
        "  name_out_tif = '{0}/mosaicos_anuais/mapbiomas_fire_collection2_burned_coverage_{1}-v1.tif'.format(home,year)\n",
        "  name_out_vrt = '{0}/mosaicos_anuais/mapbiomas_fire_collection2_burned_coverage_{1}-v1.vrt'.format(home,year)\n",
        "\n",
        "  # # rapido para muitas imagens ---- > compress \n",
        "  # os.system('gdalbuildvrt {0} {1}'.format(name_out_vrt, files_tif_str))\n",
        "  # os.system('gdal_translate  -a_nodata 0 -co compress=DEFLATE {0} {1}'.format(name_out_vrt, name_out_tif))\n",
        "  !gdalbuildvrt $name_out_vrt $files_tif_str\n",
        "  !gdal_translate  -a_nodata 0 -co compress=DEFLATE $name_out_vrt $name_out_tif\n",
        "\n",
        "\n",
        "  # PASSO 1: Vetorizar ela com gdal_poligonize.py\n",
        "  file_name_shp = 'mapbiomas_fire_collection2_burned_coverage_{0}-v1.shp'.format(year)\n",
        "  home_shp = '{0}/shapes_anuais/{1}'.format(home,file_name_shp)\n",
        "  print('{0} {1}/{2} PASSO 1/3: Vetorizar ela com gdal_poligonize.py'.format(year,years.index(year),len(years) - 1))\n",
        "\n",
        "  # os.system('gdal_polygonize.py {0} -b 1 -f \"ESRI Shapefile\" {1}'.format(name_out_tif,home_shp))\n",
        "  !gdal_polygonize.py -b 1 $name_out_tif $home_shp\n",
        "\n",
        "  # PASSO 2: Atribuir uma coluna de ID decimal a cada poligono com GeoPandas\n",
        "  # || aproximadamente 9 minutos por ano\n",
        "  print('{0} {1}/{2} PASSO 2/3: Atribuir uma coluna de ID decimal a cada poligono com GeoPandas'.format(year,years.index(year),len(years) - 1))\n",
        "\n",
        "\n",
        "\n",
        "  gdf = gpd.read_file(home_shp)\n",
        "  # ID decimal de identificação da cicatriz\n",
        "  gdf['id'] = range(1, len(gdf) + 1)\n",
        "  \n",
        "  # # EXEMPLO DE ESTIMATIVAS QUE PODEM SER CALCULADAS NA ESCALA DA CICATRIZ UTILIZANDO DADOS VETORIAIS\n",
        "  # # Cálculo da área\n",
        "  # # Área (A): medida da extensão da superfície do polígono. Fórmula: A = area do polígono.\n",
        "  # gdf['area'] = gdf.geometry.area\n",
        "\n",
        "  # # Cálculo do perímetro\n",
        "  # # Perímetro (P): medida do comprimento do contorno do polígono. Fórmula: P = comprimento do contorno do polígono.\n",
        "  # gdf['perimetro'] = gdf.geometry.length\n",
        "\n",
        "  # # Cálculo do índice de circularidade\n",
        "  # # Índice de circularidade (IC): medida da semelhança do polígono com um círculo. Quanto mais próximo de 1, mais circular é o polígono. Fórmula: IC = (4 * pi * A) / (P ** 2)\n",
        "  # gdf['ic'] = (4 * np.pi * gdf['area']) / (gdf['perimetro'] ** 2)\n",
        "\n",
        "  # # Cálculo do índice de forma\n",
        "  # # Índice de forma (IF): medida da complexidade do polígono. Quanto mais próximo de 0, mais simples é o polígono. Fórmula: IF = (P ** 2) / (4 * pi * A)\n",
        "  # gdf['if'] = (gdf['perimetro'] ** 2) / (4 * np.pi * gdf['area'])\n",
        "\n",
        "  new_shp = home_shp.replace(\"shapes_anuais\",\"shapes_anuais_final\")\n",
        "\n",
        "  gdf.to_file(filename=new_shp, driver='ESRI Shapefile')\n",
        "  \n",
        "  # PASSO 3: Enviar de volta ao Earth Engine como assets\n",
        "  print('{0} {1}/{2} PASSO 3/3: Enviar de volta ao Earth Engine como assets.'.format(year,years.index(year),len(years) - 1))\n",
        "\n",
        "  os.system('gsutil cp {0} gs://shared-development-storage/AUXILIARES/MAPBIOMAS-FOGO/{1}'.format(new_shp,file_name_shp))\n",
        "  os.system('gsutil cp {0} gs://shared-development-storage/AUXILIARES/MAPBIOMAS-FOGO/{1}'.format(new_shp.replace('.shp','.dbf'),file_name_shp.replace('.shp','.dbf')))\n",
        "  os.system('gsutil cp {0} gs://shared-development-storage/AUXILIARES/MAPBIOMAS-FOGO/{1}'.format(new_shp.replace('.shp','.shx'),file_name_shp.replace('.shp','.shx')))\n",
        "  os.system('gsutil cp {0} gs://shared-development-storage/AUXILIARES/MAPBIOMAS-FOGO/{1}'.format(new_shp.replace('.shp','.prj'),file_name_shp.replace('.shp','.prj')))\n",
        "\n",
        "  asset_id = 'projects/workspace-ipam/assets/FOGO/VECTOR-COL2/mbfogo-col2-'+str(year)+'-v1'\n",
        "\n",
        "  os.system('earthengine upload table --asset_id={0} gs://shared-development-storage/AUXILIARES/MAPBIOMAS-FOGO/{1}'.format(asset_id, filename_shp))\n",
        "\n",
        "  print('{0} CONCLUIDO 🎉 {1}/{2}'.format(year,years.index(year),len(years) - 1))\n",
        "\n",
        "print('concluido')"
      ],
      "metadata": {
        "colab": {
          "base_uri": "https://localhost:8080/"
        },
        "id": "XM-j2DyC8Hwq",
        "outputId": "e6c841bf-24f9-471b-c1c0-25442c77dd90"
      },
      "execution_count": null,
      "outputs": [
        {
          "output_type": "stream",
          "name": "stderr",
          "text": [
            "ERROR:fiona._env:PROJ: proj_identify: /usr/share/proj/proj.db contains DATABASE.LAYOUT.VERSION.MINOR = 0 whereas a number >= 2 is expected. It comes from another PROJ installation.\n",
            "ERROR:fiona._env:PROJ: proj_identify: /usr/share/proj/proj.db contains DATABASE.LAYOUT.VERSION.MINOR = 0 whereas a number >= 2 is expected. It comes from another PROJ installation.\n"
          ]
        },
        {
          "output_type": "stream",
          "name": "stdout",
          "text": [
            "1990 0/9 PASSO 0/3: Mosaicar as imagens do ano em um só tif usando gdalbuildvrt e gdal_translate \n",
            "1990 0/9 PASSO 1/3: Vetorizar ela com gdal_poligonize.py\n",
            "1990 0/9 PASSO 2/3: Atribuir uma coluna de ID decimal a cada poligono com GeoPandas\n"
          ]
        },
        {
          "output_type": "stream",
          "name": "stderr",
          "text": [
            "<ipython-input-11-4e8f9f86f711>:60: UserWarning: Geometry is in a geographic CRS. Results from 'area' are likely incorrect. Use 'GeoSeries.to_crs()' to re-project geometries to a projected CRS before this operation.\n",
            "\n",
            "  gdf['area'] = gdf.geometry.area\n",
            "<ipython-input-11-4e8f9f86f711>:64: UserWarning: Geometry is in a geographic CRS. Results from 'length' are likely incorrect. Use 'GeoSeries.to_crs()' to re-project geometries to a projected CRS before this operation.\n",
            "\n",
            "  gdf['perimetro'] = gdf.geometry.length\n",
            "/usr/local/lib/python3.9/dist-packages/geopandas/io/file.py:545: UserWarning: You are attempting to write an empty DataFrame to file. For some drivers, this operation may fail.\n",
            "  _to_file_fiona(df, filename, driver, schema, crs, mode, **kwargs)\n"
          ]
        },
        {
          "output_type": "stream",
          "name": "stdout",
          "text": [
            "1990 0/9 PASSO 3/3: Enviar de volta ao Earth Engine como assets.\n"
          ]
        },
        {
          "output_type": "stream",
          "name": "stderr",
          "text": [
            "ERROR:fiona._env:PROJ: proj_identify: /usr/share/proj/proj.db contains DATABASE.LAYOUT.VERSION.MINOR = 0 whereas a number >= 2 is expected. It comes from another PROJ installation.\n",
            "ERROR:fiona._env:PROJ: proj_identify: /usr/share/proj/proj.db contains DATABASE.LAYOUT.VERSION.MINOR = 0 whereas a number >= 2 is expected. It comes from another PROJ installation.\n"
          ]
        },
        {
          "output_type": "stream",
          "name": "stdout",
          "text": [
            "1990 CONCLUIDO 🎉 0/9\n",
            "1991 1/9 PASSO 0/3: Mosaicar as imagens do ano em um só tif usando gdalbuildvrt e gdal_translate \n",
            "1991 1/9 PASSO 1/3: Vetorizar ela com gdal_poligonize.py\n",
            "1991 1/9 PASSO 2/3: Atribuir uma coluna de ID decimal a cada poligono com GeoPandas\n"
          ]
        },
        {
          "output_type": "stream",
          "name": "stderr",
          "text": [
            "<ipython-input-11-4e8f9f86f711>:60: UserWarning: Geometry is in a geographic CRS. Results from 'area' are likely incorrect. Use 'GeoSeries.to_crs()' to re-project geometries to a projected CRS before this operation.\n",
            "\n",
            "  gdf['area'] = gdf.geometry.area\n",
            "<ipython-input-11-4e8f9f86f711>:64: UserWarning: Geometry is in a geographic CRS. Results from 'length' are likely incorrect. Use 'GeoSeries.to_crs()' to re-project geometries to a projected CRS before this operation.\n",
            "\n",
            "  gdf['perimetro'] = gdf.geometry.length\n",
            "/usr/local/lib/python3.9/dist-packages/geopandas/io/file.py:545: UserWarning: You are attempting to write an empty DataFrame to file. For some drivers, this operation may fail.\n",
            "  _to_file_fiona(df, filename, driver, schema, crs, mode, **kwargs)\n"
          ]
        },
        {
          "output_type": "stream",
          "name": "stdout",
          "text": [
            "1991 1/9 PASSO 3/3: Enviar de volta ao Earth Engine como assets.\n"
          ]
        },
        {
          "output_type": "stream",
          "name": "stderr",
          "text": [
            "ERROR:fiona._env:PROJ: proj_identify: /usr/share/proj/proj.db contains DATABASE.LAYOUT.VERSION.MINOR = 0 whereas a number >= 2 is expected. It comes from another PROJ installation.\n",
            "ERROR:fiona._env:PROJ: proj_identify: /usr/share/proj/proj.db contains DATABASE.LAYOUT.VERSION.MINOR = 0 whereas a number >= 2 is expected. It comes from another PROJ installation.\n"
          ]
        },
        {
          "output_type": "stream",
          "name": "stdout",
          "text": [
            "1991 CONCLUIDO 🎉 1/9\n",
            "1992 2/9 PASSO 0/3: Mosaicar as imagens do ano em um só tif usando gdalbuildvrt e gdal_translate \n",
            "1992 2/9 PASSO 1/3: Vetorizar ela com gdal_poligonize.py\n",
            "1992 2/9 PASSO 2/3: Atribuir uma coluna de ID decimal a cada poligono com GeoPandas\n"
          ]
        },
        {
          "output_type": "stream",
          "name": "stderr",
          "text": [
            "<ipython-input-11-4e8f9f86f711>:60: UserWarning: Geometry is in a geographic CRS. Results from 'area' are likely incorrect. Use 'GeoSeries.to_crs()' to re-project geometries to a projected CRS before this operation.\n",
            "\n",
            "  gdf['area'] = gdf.geometry.area\n",
            "<ipython-input-11-4e8f9f86f711>:64: UserWarning: Geometry is in a geographic CRS. Results from 'length' are likely incorrect. Use 'GeoSeries.to_crs()' to re-project geometries to a projected CRS before this operation.\n",
            "\n",
            "  gdf['perimetro'] = gdf.geometry.length\n"
          ]
        },
        {
          "output_type": "stream",
          "name": "stdout",
          "text": [
            "1992 2/9 PASSO 3/3: Enviar de volta ao Earth Engine como assets.\n"
          ]
        },
        {
          "output_type": "stream",
          "name": "stderr",
          "text": [
            "ERROR:fiona._env:PROJ: proj_identify: /usr/share/proj/proj.db contains DATABASE.LAYOUT.VERSION.MINOR = 0 whereas a number >= 2 is expected. It comes from another PROJ installation.\n",
            "ERROR:fiona._env:PROJ: proj_identify: /usr/share/proj/proj.db contains DATABASE.LAYOUT.VERSION.MINOR = 0 whereas a number >= 2 is expected. It comes from another PROJ installation.\n"
          ]
        },
        {
          "output_type": "stream",
          "name": "stdout",
          "text": [
            "1992 CONCLUIDO 🎉 2/9\n",
            "1993 3/9 PASSO 0/3: Mosaicar as imagens do ano em um só tif usando gdalbuildvrt e gdal_translate \n",
            "1993 3/9 PASSO 1/3: Vetorizar ela com gdal_poligonize.py\n",
            "1993 3/9 PASSO 2/3: Atribuir uma coluna de ID decimal a cada poligono com GeoPandas\n"
          ]
        },
        {
          "output_type": "stream",
          "name": "stderr",
          "text": [
            "<ipython-input-11-4e8f9f86f711>:60: UserWarning: Geometry is in a geographic CRS. Results from 'area' are likely incorrect. Use 'GeoSeries.to_crs()' to re-project geometries to a projected CRS before this operation.\n",
            "\n",
            "  gdf['area'] = gdf.geometry.area\n",
            "<ipython-input-11-4e8f9f86f711>:64: UserWarning: Geometry is in a geographic CRS. Results from 'length' are likely incorrect. Use 'GeoSeries.to_crs()' to re-project geometries to a projected CRS before this operation.\n",
            "\n",
            "  gdf['perimetro'] = gdf.geometry.length\n"
          ]
        },
        {
          "output_type": "stream",
          "name": "stdout",
          "text": [
            "1993 3/9 PASSO 3/3: Enviar de volta ao Earth Engine como assets.\n"
          ]
        },
        {
          "output_type": "stream",
          "name": "stderr",
          "text": [
            "ERROR:fiona._env:PROJ: proj_identify: /usr/share/proj/proj.db contains DATABASE.LAYOUT.VERSION.MINOR = 0 whereas a number >= 2 is expected. It comes from another PROJ installation.\n",
            "ERROR:fiona._env:PROJ: proj_identify: /usr/share/proj/proj.db contains DATABASE.LAYOUT.VERSION.MINOR = 0 whereas a number >= 2 is expected. It comes from another PROJ installation.\n"
          ]
        },
        {
          "output_type": "stream",
          "name": "stdout",
          "text": [
            "1993 CONCLUIDO 🎉 3/9\n",
            "1994 4/9 PASSO 0/3: Mosaicar as imagens do ano em um só tif usando gdalbuildvrt e gdal_translate \n",
            "1994 4/9 PASSO 1/3: Vetorizar ela com gdal_poligonize.py\n",
            "1994 4/9 PASSO 2/3: Atribuir uma coluna de ID decimal a cada poligono com GeoPandas\n"
          ]
        },
        {
          "output_type": "stream",
          "name": "stderr",
          "text": [
            "<ipython-input-11-4e8f9f86f711>:60: UserWarning: Geometry is in a geographic CRS. Results from 'area' are likely incorrect. Use 'GeoSeries.to_crs()' to re-project geometries to a projected CRS before this operation.\n",
            "\n",
            "  gdf['area'] = gdf.geometry.area\n",
            "<ipython-input-11-4e8f9f86f711>:64: UserWarning: Geometry is in a geographic CRS. Results from 'length' are likely incorrect. Use 'GeoSeries.to_crs()' to re-project geometries to a projected CRS before this operation.\n",
            "\n",
            "  gdf['perimetro'] = gdf.geometry.length\n"
          ]
        },
        {
          "output_type": "stream",
          "name": "stdout",
          "text": [
            "1994 4/9 PASSO 3/3: Enviar de volta ao Earth Engine como assets.\n"
          ]
        },
        {
          "output_type": "stream",
          "name": "stderr",
          "text": [
            "ERROR:fiona._env:PROJ: proj_identify: /usr/share/proj/proj.db contains DATABASE.LAYOUT.VERSION.MINOR = 0 whereas a number >= 2 is expected. It comes from another PROJ installation.\n",
            "ERROR:fiona._env:PROJ: proj_identify: /usr/share/proj/proj.db contains DATABASE.LAYOUT.VERSION.MINOR = 0 whereas a number >= 2 is expected. It comes from another PROJ installation.\n"
          ]
        },
        {
          "output_type": "stream",
          "name": "stdout",
          "text": [
            "1994 CONCLUIDO 🎉 4/9\n",
            "1995 5/9 PASSO 0/3: Mosaicar as imagens do ano em um só tif usando gdalbuildvrt e gdal_translate \n",
            "1995 5/9 PASSO 1/3: Vetorizar ela com gdal_poligonize.py\n",
            "1995 5/9 PASSO 2/3: Atribuir uma coluna de ID decimal a cada poligono com GeoPandas\n"
          ]
        },
        {
          "output_type": "stream",
          "name": "stderr",
          "text": [
            "<ipython-input-11-4e8f9f86f711>:60: UserWarning: Geometry is in a geographic CRS. Results from 'area' are likely incorrect. Use 'GeoSeries.to_crs()' to re-project geometries to a projected CRS before this operation.\n",
            "\n",
            "  gdf['area'] = gdf.geometry.area\n",
            "<ipython-input-11-4e8f9f86f711>:64: UserWarning: Geometry is in a geographic CRS. Results from 'length' are likely incorrect. Use 'GeoSeries.to_crs()' to re-project geometries to a projected CRS before this operation.\n",
            "\n",
            "  gdf['perimetro'] = gdf.geometry.length\n"
          ]
        },
        {
          "output_type": "stream",
          "name": "stdout",
          "text": [
            "1995 5/9 PASSO 3/3: Enviar de volta ao Earth Engine como assets.\n"
          ]
        },
        {
          "output_type": "stream",
          "name": "stderr",
          "text": [
            "ERROR:fiona._env:PROJ: proj_identify: /usr/share/proj/proj.db contains DATABASE.LAYOUT.VERSION.MINOR = 0 whereas a number >= 2 is expected. It comes from another PROJ installation.\n",
            "ERROR:fiona._env:PROJ: proj_identify: /usr/share/proj/proj.db contains DATABASE.LAYOUT.VERSION.MINOR = 0 whereas a number >= 2 is expected. It comes from another PROJ installation.\n"
          ]
        },
        {
          "output_type": "stream",
          "name": "stdout",
          "text": [
            "1995 CONCLUIDO 🎉 5/9\n",
            "1996 6/9 PASSO 0/3: Mosaicar as imagens do ano em um só tif usando gdalbuildvrt e gdal_translate \n",
            "1996 6/9 PASSO 1/3: Vetorizar ela com gdal_poligonize.py\n",
            "1996 6/9 PASSO 2/3: Atribuir uma coluna de ID decimal a cada poligono com GeoPandas\n"
          ]
        },
        {
          "output_type": "stream",
          "name": "stderr",
          "text": [
            "<ipython-input-11-4e8f9f86f711>:60: UserWarning: Geometry is in a geographic CRS. Results from 'area' are likely incorrect. Use 'GeoSeries.to_crs()' to re-project geometries to a projected CRS before this operation.\n",
            "\n",
            "  gdf['area'] = gdf.geometry.area\n",
            "<ipython-input-11-4e8f9f86f711>:64: UserWarning: Geometry is in a geographic CRS. Results from 'length' are likely incorrect. Use 'GeoSeries.to_crs()' to re-project geometries to a projected CRS before this operation.\n",
            "\n",
            "  gdf['perimetro'] = gdf.geometry.length\n"
          ]
        },
        {
          "output_type": "stream",
          "name": "stdout",
          "text": [
            "1996 6/9 PASSO 3/3: Enviar de volta ao Earth Engine como assets.\n"
          ]
        },
        {
          "output_type": "stream",
          "name": "stderr",
          "text": [
            "ERROR:fiona._env:PROJ: proj_identify: /usr/share/proj/proj.db contains DATABASE.LAYOUT.VERSION.MINOR = 0 whereas a number >= 2 is expected. It comes from another PROJ installation.\n",
            "ERROR:fiona._env:PROJ: proj_identify: /usr/share/proj/proj.db contains DATABASE.LAYOUT.VERSION.MINOR = 0 whereas a number >= 2 is expected. It comes from another PROJ installation.\n"
          ]
        },
        {
          "output_type": "stream",
          "name": "stdout",
          "text": [
            "1996 CONCLUIDO 🎉 6/9\n",
            "1997 7/9 PASSO 0/3: Mosaicar as imagens do ano em um só tif usando gdalbuildvrt e gdal_translate \n",
            "1997 7/9 PASSO 1/3: Vetorizar ela com gdal_poligonize.py\n",
            "1997 7/9 PASSO 2/3: Atribuir uma coluna de ID decimal a cada poligono com GeoPandas\n"
          ]
        },
        {
          "output_type": "stream",
          "name": "stderr",
          "text": [
            "<ipython-input-11-4e8f9f86f711>:60: UserWarning: Geometry is in a geographic CRS. Results from 'area' are likely incorrect. Use 'GeoSeries.to_crs()' to re-project geometries to a projected CRS before this operation.\n",
            "\n",
            "  gdf['area'] = gdf.geometry.area\n",
            "<ipython-input-11-4e8f9f86f711>:64: UserWarning: Geometry is in a geographic CRS. Results from 'length' are likely incorrect. Use 'GeoSeries.to_crs()' to re-project geometries to a projected CRS before this operation.\n",
            "\n",
            "  gdf['perimetro'] = gdf.geometry.length\n"
          ]
        },
        {
          "output_type": "stream",
          "name": "stdout",
          "text": [
            "1997 7/9 PASSO 3/3: Enviar de volta ao Earth Engine como assets.\n"
          ]
        },
        {
          "output_type": "stream",
          "name": "stderr",
          "text": [
            "ERROR:fiona._env:PROJ: proj_identify: /usr/share/proj/proj.db contains DATABASE.LAYOUT.VERSION.MINOR = 0 whereas a number >= 2 is expected. It comes from another PROJ installation.\n",
            "ERROR:fiona._env:PROJ: proj_identify: /usr/share/proj/proj.db contains DATABASE.LAYOUT.VERSION.MINOR = 0 whereas a number >= 2 is expected. It comes from another PROJ installation.\n"
          ]
        },
        {
          "output_type": "stream",
          "name": "stdout",
          "text": [
            "1997 CONCLUIDO 🎉 7/9\n",
            "1998 8/9 PASSO 0/3: Mosaicar as imagens do ano em um só tif usando gdalbuildvrt e gdal_translate \n",
            "1998 8/9 PASSO 1/3: Vetorizar ela com gdal_poligonize.py\n",
            "1998 8/9 PASSO 2/3: Atribuir uma coluna de ID decimal a cada poligono com GeoPandas\n"
          ]
        },
        {
          "output_type": "stream",
          "name": "stderr",
          "text": [
            "<ipython-input-11-4e8f9f86f711>:60: UserWarning: Geometry is in a geographic CRS. Results from 'area' are likely incorrect. Use 'GeoSeries.to_crs()' to re-project geometries to a projected CRS before this operation.\n",
            "\n",
            "  gdf['area'] = gdf.geometry.area\n",
            "<ipython-input-11-4e8f9f86f711>:64: UserWarning: Geometry is in a geographic CRS. Results from 'length' are likely incorrect. Use 'GeoSeries.to_crs()' to re-project geometries to a projected CRS before this operation.\n",
            "\n",
            "  gdf['perimetro'] = gdf.geometry.length\n"
          ]
        },
        {
          "output_type": "stream",
          "name": "stdout",
          "text": [
            "1998 8/9 PASSO 3/3: Enviar de volta ao Earth Engine como assets.\n"
          ]
        },
        {
          "output_type": "stream",
          "name": "stderr",
          "text": [
            "ERROR:fiona._env:PROJ: proj_identify: /usr/share/proj/proj.db contains DATABASE.LAYOUT.VERSION.MINOR = 0 whereas a number >= 2 is expected. It comes from another PROJ installation.\n",
            "ERROR:fiona._env:PROJ: proj_identify: /usr/share/proj/proj.db contains DATABASE.LAYOUT.VERSION.MINOR = 0 whereas a number >= 2 is expected. It comes from another PROJ installation.\n"
          ]
        },
        {
          "output_type": "stream",
          "name": "stdout",
          "text": [
            "1998 CONCLUIDO 🎉 8/9\n",
            "1999 9/9 PASSO 0/3: Mosaicar as imagens do ano em um só tif usando gdalbuildvrt e gdal_translate \n",
            "1999 9/9 PASSO 1/3: Vetorizar ela com gdal_poligonize.py\n",
            "1999 9/9 PASSO 2/3: Atribuir uma coluna de ID decimal a cada poligono com GeoPandas\n"
          ]
        },
        {
          "output_type": "stream",
          "name": "stderr",
          "text": [
            "<ipython-input-11-4e8f9f86f711>:60: UserWarning: Geometry is in a geographic CRS. Results from 'area' are likely incorrect. Use 'GeoSeries.to_crs()' to re-project geometries to a projected CRS before this operation.\n",
            "\n",
            "  gdf['area'] = gdf.geometry.area\n",
            "<ipython-input-11-4e8f9f86f711>:64: UserWarning: Geometry is in a geographic CRS. Results from 'length' are likely incorrect. Use 'GeoSeries.to_crs()' to re-project geometries to a projected CRS before this operation.\n",
            "\n",
            "  gdf['perimetro'] = gdf.geometry.length\n"
          ]
        },
        {
          "output_type": "stream",
          "name": "stdout",
          "text": [
            "1999 9/9 PASSO 3/3: Enviar de volta ao Earth Engine como assets.\n",
            "1999 CONCLUIDO 🎉 9/9\n",
            "concluido\n"
          ]
        }
      ]
    }
  ]
}